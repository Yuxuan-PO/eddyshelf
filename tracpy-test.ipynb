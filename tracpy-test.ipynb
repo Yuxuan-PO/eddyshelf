{
 "cells": [
  {
   "cell_type": "code",
   "execution_count": 1,
   "metadata": {
    "collapsed": false
   },
   "outputs": [
    {
     "name": "stderr",
     "output_type": "stream",
     "text": [
      "/usr/local/lib/python2.7/dist-packages/matplotlib/cbook.py:137: MatplotlibDeprecationWarning: The matplotlib.delaunay module was deprecated in version 1.4. Use matplotlib.tri.Triangulation instead.\n",
      "  warnings.warn(message, mplDeprecation, stacklevel=1)\n",
      "/usr/local/lib/python2.7/dist-packages/matplotlib/__init__.py:1318: UserWarning:  This call to matplotlib.use() has no effect\n",
      "because the backend has already been chosen;\n",
      "matplotlib.use() must be called *before* pylab, matplotlib.pyplot,\n",
      "or matplotlib.backends is imported for the first time.\n",
      "\n",
      "  warnings.warn(_use_error_msg)\n"
     ]
    }
   ],
   "source": [
    "# Normal Python libraries\n",
    "\n",
    "%load_ext autoreload\n",
    "%autoreload 2\n",
    "\n",
    "import numpy as np\n",
    "import matplotlib\n",
    "\n",
    "import netCDF4 as netCDF\n",
    "import tracpy\n",
    "import tracpy.plotting\n",
    "from tracpy.tracpy_class import Tracpy\n",
    "import datetime\n",
    "matplotlib.rcParams.update({'font.size': 20})\n",
    "\n",
    "%matplotlib qt\n",
    "from matplotlib import pyplot as plt"
   ]
  },
  {
   "cell_type": "code",
   "execution_count": 34,
   "metadata": {
    "collapsed": false,
    "run_control": {
     "breakpoint": false
    }
   },
   "outputs": [],
   "source": [
    "# Data file\n",
    "hisname = \"runs/topoeddy/runew-04/\" + \"ocean_his.nc\"\n",
    "grdname = \"runs/topoeddy/runew-04/\" + \"config/tes_grd.nc\"\n",
    "\n",
    "# Number of days to run the drifters.\n",
    "ndays = 150\n",
    "\n",
    "# Start date in date time formatting\n",
    "date = datetime.datetime(1991, 3, 15, 0)\n",
    "\n",
    "# Time between model outputs in seconds\n",
    "tseas = 24*3600 # 24 hours between outputs, in seconds \n",
    "\n",
    "# Time units\n",
    "time_units = 'seconds since 1991-01-01'\n",
    "\n",
    "# Sets a smaller limit than between model outputs for when to force interpolation if hasn't already occurred.\n",
    "nsteps = 5\n",
    "\n",
    "# Controls the sampling frequency of the drifter tracks.\n",
    "N = 4\n",
    "\n",
    "# Use ff = 1 for forward in time and ff = -1 for backward in time.\n",
    "ff = 1\n",
    "\n",
    "# Sub-grid scale diffusion\n",
    "ah = 1. # m^2/s\n",
    "av = 1. # m^2/s\n",
    "\n",
    "# turbulence/diffusion flag\n",
    "doturb = 0\n",
    "\n",
    "# calculate volume transports for lagrangian stream function\n",
    "dostream = 0\n",
    "\n",
    "# simulation name, used for saving results into netcdf file\n",
    "name = 'eddyshelf_test'\n",
    "\n",
    "num_layers = 72"
   ]
  },
  {
   "cell_type": "code",
   "execution_count": 35,
   "metadata": {
    "collapsed": false,
    "run_control": {
     "breakpoint": false
    }
   },
   "outputs": [],
   "source": [
    "# Input starting locations as real space lon,lat locations\n",
    "# DO NOT START AT ZERO - SOME BUG WITH VFLUX(2,0,1,1)\n",
    "lon0, lat0 = np.meshgrid(np.linspace(20000, 300000, 50), \n",
    "                            np.linspace(2000,40000,50)) # whole domain, 20 km\n",
    "\n",
    "# for 3d flag, do3d=0 makes the run 2d and do3d=1 makes the run 3d\n",
    "do3d = 1\n",
    "\n",
    "# initial z-locations (array with shape of lon0)\n",
    "if do3d:\n",
    "    z0 = -30 * np.ones_like(lon0)\n",
    "    zpar = 'fromZeta'\n",
    "else:\n",
    "    z0 = 's'\n",
    "    zpar = num_layers-1\n",
    "    \n",
    "if dostream:\n",
    "    T0 = np.zeros_like(lon0).ravel()\n",
    "else:\n",
    "    T0 = None\n",
    "\n",
    "# Initialize Tracpy class\n",
    "tp = Tracpy(hisname, grid_filename=grdname, name=name, tseas=tseas, ndays=ndays, nsteps=nsteps, usebasemap=False,\n",
    "            N=N, ff=ff, ah=ah, av=av, doturb=doturb, dostream=dostream, do3d=do3d, z0=z0, zpar=zpar, time_units=time_units,\n",
    "            usespherical=False)\n",
    "\n",
    "# read in grid\n",
    "#tp._readgrid()\n",
    "\n",
    "# Eliminate points that are outside domain or in masked areas\n",
    "#lon0, lat0 = tracpy.tools.check_points(lon0, lat0, tp.grid)\n",
    "\n",
    "# initial z-locations (array with shape of lon0)\n",
    "#if do3d:\n",
    "#    tp.z0 = -30 * np.ones_like(lon0)\n",
    "#    zpar = 'fromMSL'\n",
    "#else:\n",
    "#    tp.z0 = 's'\n",
    "#    zpar = num_layers-1"
   ]
  },
  {
   "cell_type": "code",
   "execution_count": 36,
   "metadata": {
    "collapsed": false,
    "run_control": {
     "breakpoint": false
    }
   },
   "outputs": [
    {
     "name": "stdout",
     "output_type": "stream",
     "text": [
      "> /media/data/Work/tracpy/tracpy/tracpy_class.py(330)prepare_for_model_run()\n",
      "-> for i in xrange(ia.size):\n",
      "(Pdb) c\n",
      "Using GCM model output index  73 / 223\n",
      "Using GCM model output index  74 / 223\n",
      "Using GCM model output index  75 / 223\n",
      "Using GCM model output index  76 / 223\n",
      "Using GCM model output index  77 / 223\n",
      "Using GCM model output index  78 / 223\n",
      "Using GCM model output index  79 / 223\n",
      "Using GCM model output index  80 / 223\n",
      "Using GCM model output index  81 / 223\n",
      "Using GCM model output index  82 / 223\n",
      "Using GCM model output index  83 / 223\n",
      "Using GCM model output index  84 / 223\n",
      "Using GCM model output index  85 / 223\n",
      "Using GCM model output index  86 / 223\n",
      "Using GCM model output index  87 / 223\n",
      "Using GCM model output index  88 / 223\n",
      "Using GCM model output index  89 / 223\n",
      "Using GCM model output index  90 / 223\n",
      "Using GCM model output index  91 / 223\n",
      "Using GCM model output index  92 / 223\n",
      "Using GCM model output index  93 / 223\n",
      "Using GCM model output index  94 / 223\n",
      "Using GCM model output index  95 / 223\n",
      "Using GCM model output index  96 / 223\n",
      "Using GCM model output index  97 / 223\n",
      "Using GCM model output index  98 / 223\n",
      "Using GCM model output index  99 / 223\n",
      "Using GCM model output index  100 / 223\n",
      "Using GCM model output index  101 / 223\n",
      "Using GCM model output index  102 / 223\n",
      "Using GCM model output index  103 / 223\n",
      "Using GCM model output index  104 / 223\n",
      "Using GCM model output index  105 / 223\n",
      "Using GCM model output index  106 / 223\n",
      "Using GCM model output index  107 / 223\n",
      "Using GCM model output index  108 / 223\n",
      "Using GCM model output index  109 / 223\n",
      "Using GCM model output index  110 / 223\n",
      "Using GCM model output index  111 / 223\n",
      "Using GCM model output index  112 / 223\n",
      "Using GCM model output index  113 / 223\n",
      "Using GCM model output index  114 / 223\n",
      "Using GCM model output index  115 / 223\n",
      "Using GCM model output index  116 / 223\n",
      "Using GCM model output index  117 / 223\n",
      "Using GCM model output index  118 / 223\n",
      "Using GCM model output index  119 / 223\n",
      "Using GCM model output index  120 / 223\n",
      "Using GCM model output index  121 / 223\n",
      "Using GCM model output index  122 / 223\n",
      "Using GCM model output index  123 / 223\n",
      "Using GCM model output index  124 / 223\n",
      "Using GCM model output index  125 / 223\n",
      "Using GCM model output index  126 / 223\n",
      "Using GCM model output index  127 / 223\n",
      "Using GCM model output index  128 / 223\n",
      "Using GCM model output index  129 / 223\n",
      "Using GCM model output index  130 / 223\n",
      "Using GCM model output index  131 / 223\n",
      "Using GCM model output index  132 / 223\n",
      "Using GCM model output index  133 / 223\n",
      "Using GCM model output index  134 / 223\n",
      "Using GCM model output index  135 / 223\n",
      "Using GCM model output index  136 / 223\n",
      "Using GCM model output index  137 / 223\n",
      "Using GCM model output index  138 / 223\n",
      "Using GCM model output index  139 / 223\n",
      "Using GCM model output index  140 / 223\n",
      "Using GCM model output index  141 / 223\n",
      "Using GCM model output index  142 / 223\n",
      "Using GCM model output index  143 / 223\n",
      "Using GCM model output index  144 / 223\n",
      "Using GCM model output index  145 / 223\n",
      "Using GCM model output index  146 / 223\n",
      "Using GCM model output index  147 / 223\n",
      "Using GCM model output index  148 / 223\n",
      "Using GCM model output index  149 / 223\n",
      "Using GCM model output index  150 / 223\n",
      "Using GCM model output index  151 / 223\n",
      "Using GCM model output index  152 / 223\n",
      "Using GCM model output index  153 / 223\n",
      "Using GCM model output index  154 / 223\n",
      "Using GCM model output index  155 / 223\n",
      "Using GCM model output index  156 / 223\n",
      "Using GCM model output index  157 / 223\n",
      "Using GCM model output index  158 / 223\n",
      "Using GCM model output index  159 / 223\n",
      "Using GCM model output index  160 / 223\n",
      "Using GCM model output index  161 / 223\n",
      "Using GCM model output index  162 / 223\n",
      "Using GCM model output index  163 / 223\n",
      "Using GCM model output index  164 / 223\n",
      "Using GCM model output index  165 / 223\n",
      "Using GCM model output index  166 / 223\n",
      "Using GCM model output index  167 / 223\n",
      "Using GCM model output index  168 / 223\n",
      "Using GCM model output index  169 / 223\n",
      "Using GCM model output index  170 / 223\n",
      "Using GCM model output index  171 / 223\n",
      "Using GCM model output index  172 / 223\n",
      "Using GCM model output index  173 / 223\n",
      "Using GCM model output index  174 / 223\n",
      "Using GCM model output index  175 / 223\n",
      "Using GCM model output index  176 / 223\n",
      "Using GCM model output index  177 / 223\n",
      "Using GCM model output index  178 / 223\n",
      "Using GCM model output index  179 / 223\n",
      "Using GCM model output index  180 / 223\n",
      "Using GCM model output index  181 / 223\n",
      "Using GCM model output index  182 / 223\n",
      "Using GCM model output index  183 / 223\n",
      "Using GCM model output index  184 / 223\n",
      "Using GCM model output index  185 / 223\n",
      "Using GCM model output index  186 / 223\n",
      "Using GCM model output index  187 / 223\n",
      "Using GCM model output index  188 / 223\n",
      "Using GCM model output index  189 / 223\n",
      "Using GCM model output index  190 / 223\n",
      "Using GCM model output index  191 / 223\n",
      "Using GCM model output index  192 / 223\n",
      "Using GCM model output index  193 / 223\n",
      "Using GCM model output index  194 / 223\n",
      "Using GCM model output index  195 / 223\n",
      "Using GCM model output index  196 / 223\n",
      "Using GCM model output index  197 / 223\n",
      "Using GCM model output index  198 / 223\n",
      "Using GCM model output index  199 / 223\n",
      "Using GCM model output index  200 / 223\n",
      "Using GCM model output index  201 / 223\n",
      "Using GCM model output index  202 / 223\n",
      "Using GCM model output index  203 / 223\n",
      "Using GCM model output index  204 / 223\n",
      "Using GCM model output index  205 / 223\n",
      "Using GCM model output index  206 / 223\n",
      "Using GCM model output index  207 / 223\n",
      "Using GCM model output index  208 / 223\n",
      "Using GCM model output index  209 / 223\n",
      "Using GCM model output index  210 / 223\n",
      "Using GCM model output index  211 / 223\n",
      "Using GCM model output index  212 / 223\n",
      "Using GCM model output index  213 / 223\n",
      "Using GCM model output index  214 / 223\n",
      "Using GCM model output index  215 / 223\n",
      "Using GCM model output index  216 / 223\n",
      "Using GCM model output index  217 / 223\n",
      "Using GCM model output index  218 / 223\n",
      "Using GCM model output index  219 / 223\n",
      "Using GCM model output index  220 / 223\n",
      "Using GCM model output index  221 / 223\n",
      "Using GCM model output index  222 / 223\n",
      "=============================================\n",
      "\n",
      "Simulation name:  eddyshelf_test\n",
      "\n",
      "=============================================\n",
      "Total run time: 1486.961167 (seconds)\n",
      "---------------------------------------------\n",
      "Time spent on:\n",
      "\t1: Preparing for simulation    \t\t163.1230 (10.9702%)\n",
      "\t2: Preparing for model step    \t\t1045.6972 (70.3244%)\n",
      "\t3: Stepping, using TRACMASS    \t\t167.1617 (11.2418%)\n",
      "\t4: Processing after model step \t\t102.6167 (6.9011%)\n",
      "\t5: Processing after simulation \t\t8.3625 (0.5624%)\n",
      "=============================================\n"
     ]
    }
   ],
   "source": [
    "# Note in timing that the grid was already read in\n",
    "lonp, latp, zp, t, T0, U, V = tracpy.run.run(tp, date, lon0, lat0)"
   ]
  },
  {
   "cell_type": "code",
   "execution_count": 37,
   "metadata": {
    "collapsed": false,
    "run_control": {
     "breakpoint": false
    }
   },
   "outputs": [
    {
     "name": "stdout",
     "output_type": "stream",
     "text": [
      "Ignoring basemap directive\n"
     ]
    }
   ],
   "source": [
    "lonp, latp, zp, time = tracpy.inout.loadtracks('eddyshelf_test')\n",
    "#U, V, lon0, lat0, T0 = tracpy.inout.loadtransport('eddyshelf_test')\n",
    "\n",
    "tracpy.plotting.tracks(lonp, latp, tp.name, tp.grid, isll=False)\n",
    "\n",
    "#step = 40\n",
    "#plt.plot(lonp[1:-1:step,:].T, zp[1:-1:step,:].T);"
   ]
  },
  {
   "cell_type": "code",
   "execution_count": 38,
   "metadata": {
    "collapsed": false,
    "run_control": {
     "breakpoint": false
    }
   },
   "outputs": [
    {
     "name": "stdout",
     "output_type": "stream",
     "text": [
      "Ignoring basemap directive\n"
     ]
    }
   ],
   "source": [
    "tracpy.plotting.hist(lonp, latp, tp.name, grid=tp.grid, which='hexbin', bins=(50,50), isll=False)"
   ]
  }
 ],
 "metadata": {
  "kernelspec": {
   "display_name": "Python 2",
   "language": "python",
   "name": "python2"
  },
  "language_info": {
   "codemirror_mode": {
    "name": "ipython",
    "version": 2
   },
   "file_extension": ".py",
   "mimetype": "text/x-python",
   "name": "python",
   "nbconvert_exporter": "python",
   "pygments_lexer": "ipython2",
   "version": "2.7.6"
  }
 },
 "nbformat": 4,
 "nbformat_minor": 0
}
